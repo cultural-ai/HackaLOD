{
 "cells": [
  {
   "cell_type": "code",
   "execution_count": 1,
   "metadata": {},
   "outputs": [],
   "source": [
    "import json\n",
    "import csv\n",
    "import pandas as pd\n",
    "import requests\n",
    "import io\n",
    "import time"
   ]
  },
  {
   "cell_type": "code",
   "execution_count": 50,
   "metadata": {},
   "outputs": [],
   "source": [
    "wiki_csv = pd.read_csv('wikihyper.csv',encoding = \"latin\", delimiter=';')"
   ]
  },
  {
   "cell_type": "code",
   "execution_count": 53,
   "metadata": {},
   "outputs": [],
   "source": [
    "qids_depicted = [qid.split('/')[-1] for qid in wiki_csv['wikidata']]"
   ]
  },
  {
   "cell_type": "code",
   "execution_count": 68,
   "metadata": {},
   "outputs": [],
   "source": [
    "qids_depicted_unique = list(set(qids_depicted))"
   ]
  },
  {
   "cell_type": "code",
   "execution_count": 69,
   "metadata": {},
   "outputs": [
    {
     "data": {
      "text/plain": [
       "2691"
      ]
     },
     "execution_count": 69,
     "metadata": {},
     "output_type": "execute_result"
    }
   ],
   "source": [
    "len(qids_depicted_unique)"
   ]
  },
  {
   "cell_type": "code",
   "execution_count": 17,
   "metadata": {},
   "outputs": [],
   "source": [
    "headers = {\"user-agent\":\"bot getting labels of the requested entities (CWI; Human-Centered Data Analytics; nesterov@cwi.nl)\"}"
   ]
  },
  {
   "cell_type": "code",
   "execution_count": 74,
   "metadata": {},
   "outputs": [],
   "source": [
    "def request_labels_of_property_values(qids:list, headers:dict, path='', index=1) -> list:\n",
    "    \"\"\"\n",
    "    Getting labels of entities in EN and NL\n",
    "    qids: list of entities (str) to work on;\n",
    "    headers: for Wikidata to define \"user-agent\";\n",
    "    path: optional; str path where to save json files (including '/');\n",
    "    index: optional, to indicate the output file index;\n",
    "    Saves results in json\n",
    "    Returns a list of entities claims of which were not requested due to request errors\n",
    "    (empty if everything was successfully requested)\n",
    "    \"\"\"\n",
    "    \n",
    "    # 'wbgetentities' constant params\n",
    "    url = \"https://www.wikidata.org/w/api.php\"\n",
    "    params = {\"action\":\"wbgetentities\",\n",
    "              \"ids\":\"\", # string of entities (max=50)\n",
    "              \"props\":\"labels|aliases\",\n",
    "              \"languages\":\"en|nl\", # requesting 2 languages at the same time\n",
    "              \"format\":\"json\"}\n",
    "    \n",
    "    results = {}\n",
    "    failed_entities = []\n",
    "    \n",
    "    # - N LOOPS - #\n",
    "\n",
    "    # if there's a remainder\n",
    "    if len(qids) % 50 > 0:\n",
    "        loops = len(qids) // 50 + 1 # add another loop for requests\n",
    "    else:\n",
    "        loops = len(qids) // 50\n",
    "\n",
    "    # - REQUEST LOOPS - #   \n",
    "\n",
    "    # counters to slice qids\n",
    "\n",
    "    start_quid_str = 0\n",
    "    end_quid_str = 0\n",
    "\n",
    "    for i in range(0,loops):\n",
    "        ids_string = \"\" # putting Qs in one string\n",
    "        end_quid_str = end_quid_str + 50 # max 50 entities per request\n",
    "\n",
    "        for q in qids[start_quid_str:end_quid_str]:\n",
    "            ids_string = ids_string + f\"{q}|\"\n",
    "\n",
    "        start_quid_str = start_quid_str + 50\n",
    "\n",
    "        # updating params\n",
    "        params[\"ids\"] = ids_string.rstrip(\"|\")\n",
    "\n",
    "        # sending a request\n",
    "        d = requests.get(url,params=params,headers=headers)\n",
    "        labels = d.json() # claims per request\n",
    "        \n",
    "        if 'entities' in labels:\n",
    "            \n",
    "            for entity,l in labels['entities'].items():\n",
    "                \n",
    "                label_data = {'labels':{},'aliases':{}}\n",
    "                if 'labels' in l:\n",
    "                    label_data['labels'] = l['labels']\n",
    "                if 'aliases' in l:\n",
    "                    label_data['aliases'] = l['aliases']\n",
    "            \n",
    "                results[entity] = label_data\n",
    "\n",
    "            # - SAVING RESULTS - #\n",
    "    \n",
    "            with open(f'{path}entity_labels.json', 'w') as json_file:\n",
    "                json.dump(results, json_file)\n",
    "                \n",
    "            # to prevent server errors    \n",
    "            time.sleep(3)\n",
    "\n",
    "        else:\n",
    "            failed_entities.extend(qids[start_quid_str:end_quid_str])\n",
    "\n",
    "    return failed_entities"
   ]
  },
  {
   "cell_type": "code",
   "execution_count": 76,
   "metadata": {},
   "outputs": [
    {
     "data": {
      "text/plain": [
       "[]"
      ]
     },
     "execution_count": 76,
     "metadata": {},
     "output_type": "execute_result"
    }
   ],
   "source": [
    "request_labels_of_property_values(qids_depicted_unique,headers)"
   ]
  },
  {
   "cell_type": "code",
   "execution_count": null,
   "metadata": {},
   "outputs": [],
   "source": []
  }
 ],
 "metadata": {
  "kernelspec": {
   "display_name": "Python 3",
   "language": "python",
   "name": "python3"
  },
  "language_info": {
   "codemirror_mode": {
    "name": "ipython",
    "version": 3
   },
   "file_extension": ".py",
   "mimetype": "text/x-python",
   "name": "python",
   "nbconvert_exporter": "python",
   "pygments_lexer": "ipython3",
   "version": "3.8.5"
  }
 },
 "nbformat": 4,
 "nbformat_minor": 4
}
