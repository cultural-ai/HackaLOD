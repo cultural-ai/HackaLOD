{
 "cells": [
  {
   "cell_type": "code",
   "execution_count": 1,
   "metadata": {},
   "outputs": [],
   "source": [
    "import re\n",
    "import json\n",
    "import csv\n",
    "import pandas as pd"
   ]
  },
  {
   "cell_type": "code",
   "execution_count": null,
   "metadata": {},
   "outputs": [],
   "source": [
    "# importing query strings\n",
    "df = pd.read_csv('knowledge_graph_symbols_english_and_dutch.csv')"
   ]
  },
  {
   "cell_type": "code",
   "execution_count": null,
   "metadata": {},
   "outputs": [],
   "source": [
    "# importing nmvw collection\n",
    "with open('nmvw.json','r') as jf:\n",
    "    nmvw = json.load(jf)"
   ]
  },
  {
   "cell_type": "code",
   "execution_count": null,
   "metadata": {},
   "outputs": [],
   "source": [
    "query_results = {}"
   ]
  },
  {
   "cell_type": "code",
   "execution_count": null,
   "metadata": {},
   "outputs": [],
   "source": [
    "for query_str in tqdm(df['translation']):\n",
    "    \n",
    "    # modifying a query term\n",
    "    clean_query_str = str(query_str).replace('*','').replace(')','').replace('(','').replace('&#39;',\"'\")\n",
    "        \n",
    "    match_dict = {}\n",
    "    \n",
    "    # iterate over NMVW\n",
    "    \n",
    "    for handle, values in nmvw.items():\n",
    "\n",
    "        found_in = ''\n",
    "\n",
    "        # searching in descriptions\n",
    "        if re.search(f\"\\\\b{clean_query_str}\\\\b\",values['desc'],re.IGNORECASE) != None:\n",
    "            found_in = 'desc'\n",
    "\n",
    "        if found_in == 'desc':\n",
    "            match_dict[handle] = {\"title\":values['title'],\"desc\":values['desc'],\"found_in\":found_in}\n",
    "    \n",
    "    if len(match_dict) > 0:\n",
    "        query_results[clean_query_str] = match_dict\n",
    "    "
   ]
  },
  {
   "cell_type": "code",
   "execution_count": null,
   "metadata": {},
   "outputs": [],
   "source": [
    "# saving query results\n",
    "\n",
    "with open('file_name.json', 'w') as jf:\n",
    "    json.dump(query_results, jf)"
   ]
  }
 ],
 "metadata": {
  "kernelspec": {
   "display_name": "Python 3",
   "language": "python",
   "name": "python3"
  },
  "language_info": {
   "codemirror_mode": {
    "name": "ipython",
    "version": 3
   },
   "file_extension": ".py",
   "mimetype": "text/x-python",
   "name": "python",
   "nbconvert_exporter": "python",
   "pygments_lexer": "ipython3",
   "version": "3.8.5"
  }
 },
 "nbformat": 4,
 "nbformat_minor": 4
}
