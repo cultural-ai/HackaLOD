{
 "cells": [
  {
   "cell_type": "code",
   "execution_count": 20,
   "id": "cfb110a1",
   "metadata": {},
   "outputs": [],
   "source": [
    "import pandas as pd\n",
    "from collections import Counter"
   ]
  },
  {
   "cell_type": "code",
   "execution_count": 53,
   "id": "13a78221",
   "metadata": {},
   "outputs": [],
   "source": [
    "concept_to_label = pd.read_csv(\"conceptlabels2.csv\")"
   ]
  },
  {
   "cell_type": "code",
   "execution_count": 54,
   "id": "c4f5609d",
   "metadata": {},
   "outputs": [],
   "source": [
    "concept_to_label = concept_to_label.drop_duplicates(subset = \"concept\").reset_index().drop(\"index\", axis=1)"
   ]
  },
  {
   "cell_type": "code",
   "execution_count": 55,
   "id": "8b0a0c91",
   "metadata": {},
   "outputs": [],
   "source": [
    "concepts = pd.read_csv(\"hyperreal2.csv\", encoding=\"latin1\")"
   ]
  },
  {
   "cell_type": "code",
   "execution_count": 56,
   "id": "d67b0b5f",
   "metadata": {
    "scrolled": false
   },
   "outputs": [],
   "source": [
    "dicttt = concept_to_label.set_index(\"concept\").to_dict(orient=\"index\")"
   ]
  },
  {
   "cell_type": "code",
   "execution_count": 57,
   "id": "4cbab754",
   "metadata": {},
   "outputs": [],
   "source": [
    "concepts = concepts[concepts.concept.isin(dicttt.keys())]"
   ]
  },
  {
   "cell_type": "code",
   "execution_count": 58,
   "id": "1b42bf42",
   "metadata": {},
   "outputs": [],
   "source": [
    "concepts = concepts.reset_index().drop(\"index\",axis=1)"
   ]
  },
  {
   "cell_type": "code",
   "execution_count": 65,
   "id": "8e418d40",
   "metadata": {},
   "outputs": [],
   "source": [
    "concepts[\"label\"]=\"\""
   ]
  },
  {
   "cell_type": "code",
   "execution_count": 69,
   "id": "5105f545",
   "metadata": {},
   "outputs": [],
   "source": [
    "concepts[\"label\"] = concepts.concept.apply(lambda x: dicttt[x][\"label\"])"
   ]
  },
  {
   "cell_type": "code",
   "execution_count": 72,
   "id": "4a982d92",
   "metadata": {
    "scrolled": true
   },
   "outputs": [],
   "source": [
    "concepts.to_csv(\"pyqt/data/hyperreal_with_concept_labels.csv\")"
   ]
  },
  {
   "cell_type": "code",
   "execution_count": 73,
   "id": "4ca25939",
   "metadata": {},
   "outputs": [
    {
     "data": {
      "text/html": [
       "<div>\n",
       "<style scoped>\n",
       "    .dataframe tbody tr th:only-of-type {\n",
       "        vertical-align: middle;\n",
       "    }\n",
       "\n",
       "    .dataframe tbody tr th {\n",
       "        vertical-align: top;\n",
       "    }\n",
       "\n",
       "    .dataframe thead th {\n",
       "        text-align: right;\n",
       "    }\n",
       "</style>\n",
       "<table border=\"1\" class=\"dataframe\">\n",
       "  <thead>\n",
       "    <tr style=\"text-align: right;\">\n",
       "      <th></th>\n",
       "      <th>symbol</th>\n",
       "      <th>concept</th>\n",
       "      <th>contexts</th>\n",
       "      <th>types</th>\n",
       "      <th>label</th>\n",
       "    </tr>\n",
       "  </thead>\n",
       "  <tbody>\n",
       "    <tr>\n",
       "      <th>0</th>\n",
       "      <td>aMGPDT</td>\n",
       "      <td>theVirginMary</td>\n",
       "      <td>christian</td>\n",
       "      <td>AttributeSimulation</td>\n",
       "      <td>the Virgin Mary</td>\n",
       "    </tr>\n",
       "    <tr>\n",
       "      <th>1</th>\n",
       "      <td>cacalia</td>\n",
       "      <td>adulation</td>\n",
       "      <td>flowerLanguage</td>\n",
       "      <td>Simulation</td>\n",
       "      <td>adulation</td>\n",
       "    </tr>\n",
       "    <tr>\n",
       "      <th>2</th>\n",
       "      <td>cactusWren</td>\n",
       "      <td>arizona</td>\n",
       "      <td>generalOrUnknown</td>\n",
       "      <td>Simulation</td>\n",
       "      <td>Arizona</td>\n",
       "    </tr>\n",
       "    <tr>\n",
       "      <th>3</th>\n",
       "      <td>cadencyLabelsOfTheBritishRoyalFamily</td>\n",
       "      <td>theUnitedKingdom</td>\n",
       "      <td>generalOrUnknown</td>\n",
       "      <td>Simulation</td>\n",
       "      <td>the United Kingdom</td>\n",
       "    </tr>\n",
       "    <tr>\n",
       "      <th>4</th>\n",
       "      <td>caducues</td>\n",
       "      <td>paxGoddess</td>\n",
       "      <td>roman</td>\n",
       "      <td>Simulation</td>\n",
       "      <td>Pax (goddess)</td>\n",
       "    </tr>\n",
       "    <tr>\n",
       "      <th>...</th>\n",
       "      <td>...</td>\n",
       "      <td>...</td>\n",
       "      <td>...</td>\n",
       "      <td>...</td>\n",
       "      <td>...</td>\n",
       "    </tr>\n",
       "    <tr>\n",
       "      <th>41872</th>\n",
       "      <td>yellowCarpet</td>\n",
       "      <td>rank</td>\n",
       "      <td>islamic</td>\n",
       "      <td>Simulation</td>\n",
       "      <td>rank</td>\n",
       "    </tr>\n",
       "    <tr>\n",
       "      <th>41873</th>\n",
       "      <td>yellowFlag</td>\n",
       "      <td>disease</td>\n",
       "      <td>generalOrUnknown</td>\n",
       "      <td>Simulation</td>\n",
       "      <td>disease</td>\n",
       "    </tr>\n",
       "    <tr>\n",
       "      <th>41874</th>\n",
       "      <td>yellowJasper</td>\n",
       "      <td>charm</td>\n",
       "      <td>generalOrUnknown</td>\n",
       "      <td>Simulation</td>\n",
       "      <td>charm</td>\n",
       "    </tr>\n",
       "    <tr>\n",
       "      <th>41875</th>\n",
       "      <td>yellowJasper</td>\n",
       "      <td>charm</td>\n",
       "      <td>generalOrUnknown</td>\n",
       "      <td>Simulation</td>\n",
       "      <td>charm</td>\n",
       "    </tr>\n",
       "    <tr>\n",
       "      <th>41876</th>\n",
       "      <td>yellowJasper</td>\n",
       "      <td>charm</td>\n",
       "      <td>generalOrUnknown</td>\n",
       "      <td>Simulation</td>\n",
       "      <td>charm</td>\n",
       "    </tr>\n",
       "  </tbody>\n",
       "</table>\n",
       "<p>41877 rows × 5 columns</p>\n",
       "</div>"
      ],
      "text/plain": [
       "                                     symbol           concept  \\\n",
       "0                                    aMGPDT     theVirginMary   \n",
       "1                                   cacalia         adulation   \n",
       "2                                cactusWren           arizona   \n",
       "3      cadencyLabelsOfTheBritishRoyalFamily  theUnitedKingdom   \n",
       "4                                  caducues        paxGoddess   \n",
       "...                                     ...               ...   \n",
       "41872                          yellowCarpet              rank   \n",
       "41873                            yellowFlag           disease   \n",
       "41874                          yellowJasper             charm   \n",
       "41875                          yellowJasper             charm   \n",
       "41876                          yellowJasper             charm   \n",
       "\n",
       "               contexts                types               label  \n",
       "0             christian  AttributeSimulation     the Virgin Mary  \n",
       "1        flowerLanguage           Simulation           adulation  \n",
       "2      generalOrUnknown           Simulation             Arizona  \n",
       "3      generalOrUnknown           Simulation  the United Kingdom  \n",
       "4                 roman           Simulation       Pax (goddess)  \n",
       "...                 ...                  ...                 ...  \n",
       "41872           islamic           Simulation                rank  \n",
       "41873  generalOrUnknown           Simulation             disease  \n",
       "41874  generalOrUnknown           Simulation               charm  \n",
       "41875  generalOrUnknown           Simulation               charm  \n",
       "41876  generalOrUnknown           Simulation               charm  \n",
       "\n",
       "[41877 rows x 5 columns]"
      ]
     },
     "execution_count": 73,
     "metadata": {},
     "output_type": "execute_result"
    }
   ],
   "source": [
    "concepts"
   ]
  },
  {
   "cell_type": "code",
   "execution_count": null,
   "id": "cc01ac5b",
   "metadata": {},
   "outputs": [],
   "source": []
  }
 ],
 "metadata": {
  "kernelspec": {
   "display_name": "Python 3 (ipykernel)",
   "language": "python",
   "name": "python3"
  },
  "language_info": {
   "codemirror_mode": {
    "name": "ipython",
    "version": 3
   },
   "file_extension": ".py",
   "mimetype": "text/x-python",
   "name": "python",
   "nbconvert_exporter": "python",
   "pygments_lexer": "ipython3",
   "version": "3.9.12"
  }
 },
 "nbformat": 4,
 "nbformat_minor": 5
}
