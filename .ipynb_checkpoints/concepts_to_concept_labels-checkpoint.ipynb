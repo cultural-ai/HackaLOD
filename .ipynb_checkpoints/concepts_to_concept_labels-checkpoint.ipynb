{
 "cells": [
  {
   "cell_type": "code",
   "execution_count": 1,
   "id": "cfb110a1",
   "metadata": {},
   "outputs": [],
   "source": [
    "import pandas as pd"
   ]
  },
  {
   "cell_type": "code",
   "execution_count": 4,
   "id": "13a78221",
   "metadata": {},
   "outputs": [],
   "source": [
    "concept_to_label = pd.read_csv(\"conceptlabels2.csv\")"
   ]
  },
  {
   "cell_type": "code",
   "execution_count": 12,
   "id": "07e5ab43",
   "metadata": {},
   "outputs": [
    {
     "data": {
      "text/plain": [
       "19021"
      ]
     },
     "execution_count": 12,
     "metadata": {},
     "output_type": "execute_result"
    }
   ],
   "source": [
    "len(concept_to_label)"
   ]
  },
  {
   "cell_type": "code",
   "execution_count": 16,
   "id": "c4f5609d",
   "metadata": {},
   "outputs": [],
   "source": [
    "concept_to_label = concept_to_label.drop_duplicates(subset = \"concept\").reset_index().drop(\"index\", axis=1)"
   ]
  },
  {
   "cell_type": "code",
   "execution_count": 17,
   "id": "8b0a0c91",
   "metadata": {},
   "outputs": [],
   "source": [
    "concepts = pd.read_csv(\"hyperreal2.csv\", encoding=\"latin1\")"
   ]
  },
  {
   "cell_type": "code",
   "execution_count": 19,
   "id": "855ca798",
   "metadata": {},
   "outputs": [],
   "source": [
    "hyperreal3 = pd.merge(concepts, concept_to_label, on = \"concept\")"
   ]
  },
  {
   "cell_type": "code",
   "execution_count": 22,
   "id": "2682ce77",
   "metadata": {},
   "outputs": [],
   "source": [
    "hyperreal3.to_csv(\"pyqt/data/hyperreal_with_concept_labels.csv\")"
   ]
  },
  {
   "cell_type": "code",
   "execution_count": null,
   "id": "5105f545",
   "metadata": {},
   "outputs": [],
   "source": []
  }
 ],
 "metadata": {
  "kernelspec": {
   "display_name": "Python 3 (ipykernel)",
   "language": "python",
   "name": "python3"
  },
  "language_info": {
   "codemirror_mode": {
    "name": "ipython",
    "version": 3
   },
   "file_extension": ".py",
   "mimetype": "text/x-python",
   "name": "python",
   "nbconvert_exporter": "python",
   "pygments_lexer": "ipython3",
   "version": "3.9.12"
  }
 },
 "nbformat": 4,
 "nbformat_minor": 5
}
